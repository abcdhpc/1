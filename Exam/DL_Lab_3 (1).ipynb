{
 "cells": [
  {
   "cell_type": "code",
   "execution_count": 83,
   "metadata": {
    "colab": {
     "base_uri": "https://localhost:8080/"
    },
    "executionInfo": {
     "elapsed": 2984,
     "status": "ok",
     "timestamp": 1685125202871,
     "user": {
      "displayName": "TE_B_52_Siddesh Patankar",
      "userId": "08734077620444832225"
     },
     "user_tz": -330
    },
    "id": "_j-jTUIGjxog",
    "outputId": "ef2f05b2-8171-4773-98a5-306b5c8d981d"
   },
   "outputs": [],
   "source": [
    "import tensorflow as tf\n",
    "import matplotlib.pyplot as plt\n",
    "from tensorflow import keras\n",
    "import numpy as np\n",
    "(x_train, y_train), (x_test, y_test) = keras.datasets.fashion_mnist.load_data()"
   ]
  },
  {
   "cell_type": "code",
   "execution_count": 84,
   "metadata": {
    "colab": {
     "base_uri": "https://localhost:8080/",
     "height": 469
    },
    "executionInfo": {
     "elapsed": 16,
     "status": "ok",
     "timestamp": 1685125202872,
     "user": {
      "displayName": "TE_B_52_Siddesh Patankar",
      "userId": "08734077620444832225"
     },
     "user_tz": -330
    },
    "id": "HV_fTzV_-o2n",
    "outputId": "90609bb1-f723-45d9-c317-fbf2fef98dc7"
   },
   "outputs": [
    {
     "name": "stdout",
     "output_type": "stream",
     "text": [
      "Train: X=(60000, 28, 28), Y=(60000,)\n",
      "Test: X=(10000, 28, 28), Y=(10000,)\n"
     ]
    },
    {
     "data": {
      "image/png": "[encoded data removed]",
      "text/plain": [
       "<Figure size 640x480 with 9 Axes>"
      ]
     },
     "metadata": {},
     "output_type": "display_data"
    }
   ],
   "source": [
    "# example of loading the fashion mnist dataset\n",
    "from matplotlib import pyplot\n",
    "from keras.datasets import fashion_mnist\n",
    "\n",
    "#summarize loaded dataset\n",
    "print(f\"Train: X={x_train.shape}, Y={y_train.shape}\")\n",
    "print(f\"Test: X={x_test.shape}, Y={y_test.shape}\")\n",
    "\n",
    "\n",
    "# plot 1st few images\n",
    "for i in range(9):\n",
    "    pyplot.subplot(330+1+i)\n",
    "    \n",
    "    #plot raw pixel data\n",
    "    \n",
    "    pyplot.imshow(x_train[i],cmap='gray')\n",
    "pyplot.show()"
   ]
  },
  {
   "cell_type": "code",
   "execution_count": 85,
   "metadata": {
    "executionInfo": {
     "elapsed": 15,
     "status": "ok",
     "timestamp": 1685125202873,
     "user": {
      "displayName": "TE_B_52_Siddesh Patankar",
      "userId": "08734077620444832225"
     },
     "user_tz": -330
    },
    "id": "XVyw5xLf-o2p"
   },
   "outputs": [],
   "source": [
    "#reshape dataset to have a single channel\n",
    "x_train = x_train.reshape(-1, 28, 28, 1)\n",
    "x_test = x_test.reshape(-1, 28, 28, 1)"
   ]
  },
  {
   "cell_type": "code",
   "execution_count": 72,
   "metadata": {
    "executionInfo": {
     "elapsed": 16,
     "status": "ok",
     "timestamp": 1685125202874,
     "user": {
      "displayName": "TE_B_52_Siddesh Patankar",
      "userId": "08734077620444832225"
     },
     "user_tz": -330
    },
    "id": "hlV-bCoD-o2q"
   },
   "outputs": [],
   "source": [
    "#convert from intgers to float #Nor . 0 to 1\n",
    "x_train = x_train.astype('float32') / 255.0\n",
    "x_test = x_test.astype('float32') / 255.0"
   ]
  },
  {
   "cell_type": "code",
   "execution_count": 88,
   "metadata": {
    "executionInfo": {
     "elapsed": 16,
     "status": "ok",
     "timestamp": 1685125202875,
     "user": {
      "displayName": "TE_B_52_Siddesh Patankar",
      "userId": "08734077620444832225"
     },
     "user_tz": -330
    },
    "id": "-Qi6KOsn-o2s"
   },
   "outputs": [],
   "source": [
    "#convert to one hot encoder (vector)\n",
    "from keras.utils import to_categorical\n",
    "y_train_one_hot = to_categorical(y_train)\n",
    "y_test_one_hot = to_categorical(y_test)"
   ]
  },
  {
   "cell_type": "code",
   "execution_count": 74,
   "metadata": {
    "executionInfo": {
     "elapsed": 1682,
     "status": "ok",
     "timestamp": 1685125204541,
     "user": {
      "displayName": "TE_B_52_Siddesh Patankar",
      "userId": "08734077620444832225"
     },
     "user_tz": -330
    },
    "id": "txTuSANLQJ1S"
   },
   "outputs": [],
   "source": [
    "model = keras.Sequential([\n",
    "    keras.layers.Conv2D(32, (3,3), activation='relu', input_shape=(28,28,1)),\n",
    "    keras.layers.MaxPooling2D((2,2)),\n",
    "    keras.layers.Dropout(0.25),\n",
    "    keras.layers.Conv2D(64, (3,3), activation='relu'),\n",
    "    keras.layers.MaxPooling2D((2,2)),\n",
    "    keras.layers.Dropout(0.25),   \n",
    "    keras.layers.Conv2D(128, (3,3), activation='relu'),\n",
    "    keras.layers.Flatten(),\n",
    "    keras.layers.Dense(128, activation='relu'),\n",
    "    keras.layers.Dropout(0.25),\n",
    "    keras.layers.Dense(10, activation='softmax')\n",
    "])"
   ]
  },
  {
   "cell_type": "code",
   "execution_count": 78,
   "metadata": {
    "colab": {
     "base_uri": "https://localhost:8080/"
    },
    "executionInfo": {
     "elapsed": 13,
     "status": "ok",
     "timestamp": 1685125204542,
     "user": {
      "displayName": "TE_B_52_Siddesh Patankar",
      "userId": "08734077620444832225"
     },
     "user_tz": -330
    },
    "id": "WzBjU3g3idgx",
    "outputId": "e6932816-ce7f-41d0-fa81-5c32a8732d3c"
   },
   "outputs": [
    {
     "name": "stdout",
     "output_type": "stream",
     "text": [
      "Model: \"sequential_4\"\n",
      "_________________________________________________________________\n",
      " Layer (type)                Output Shape              Param #   \n",
      "=================================================================\n",
      " conv2d_12 (Conv2D)          (None, 26, 26, 32)        320       \n",
      "                                                                 \n",
      " max_pooling2d_8 (MaxPooling  (None, 13, 13, 32)       0         \n",
      " 2D)                                                             \n",
      "                                                                 \n",
      " dropout_12 (Dropout)        (None, 13, 13, 32)        0         \n",
      "                                                                 \n",
      " conv2d_13 (Conv2D)          (None, 11, 11, 64)        18496     \n",
      "                                                                 \n",
      " max_pooling2d_9 (MaxPooling  (None, 5, 5, 64)         0         \n",
      " 2D)                                                             \n",
      "                                                                 \n",
      " dropout_13 (Dropout)        (None, 5, 5, 64)          0         \n",
      "                                                                 \n",
      " conv2d_14 (Conv2D)          (None, 3, 3, 128)         73856     \n",
      "                                                                 \n",
      " flatten_4 (Flatten)         (None, 1152)              0         \n",
      "                                                                 \n",
      " dense_8 (Dense)             (None, 128)               147584    \n",
      "                                                                 \n",
      " dropout_14 (Dropout)        (None, 128)               0         \n",
      "                                                                 \n",
      " dense_9 (Dense)             (None, 10)                1290      \n",
      "                                                                 \n",
      "=================================================================\n",
      "Total params: 241,546\n",
      "Trainable params: 241,546\n",
      "Non-trainable params: 0\n",
      "_________________________________________________________________\n"
     ]
    }
   ],
   "source": [
    "model.summary()"
   ]
  },
  {
   "cell_type": "code",
   "execution_count": 79,
   "metadata": {
    "colab": {
     "base_uri": "https://localhost:8080/"
    },
    "executionInfo": {
     "elapsed": 504657,
     "status": "ok",
     "timestamp": 1685127965210,
     "user": {
      "displayName": "TE_B_52_Siddesh Patankar",
      "userId": "08734077620444832225"
     },
     "user_tz": -330
    },
    "id": "p8ziWNG1QTJh",
    "outputId": "b19be6b3-1a82-4978-e255-ad4360625850",
    "scrolled": true
   },
   "outputs": [
    {
     "name": "stdout",
     "output_type": "stream",
     "text": [
      "1875/1875 [==============================] - 39s 20ms/step - loss: 0.5732 - accuracy: 0.7859 - val_loss: 0.4101 - val_accuracy: 0.8432\n"
     ]
    }
   ],
   "source": [
    "model.compile(optimizer='adam', loss='sparse_categorical_crossentropy', metrics=['accuracy'])\n",
    "history = model.fit(x_train, y_train, epochs=1, validation_data=(x_test, y_test))"
   ]
  },
  {
   "cell_type": "code",
   "execution_count": 80,
   "metadata": {
    "colab": {
     "base_uri": "https://localhost:8080/"
    },
    "executionInfo": {
     "elapsed": 1929,
     "status": "ok",
     "timestamp": 1685125708483,
     "user": {
      "displayName": "TE_B_52_Siddesh Patankar",
      "userId": "08734077620444832225"
     },
     "user_tz": -330
    },
    "id": "BhG8LcfRQnQl",
    "outputId": "9dc0bf27-4e85-4776-e98f-7b2958777e40"
   },
   "outputs": [
    {
     "name": "stdout",
     "output_type": "stream",
     "text": [
      "313/313 [==============================] - 2s 5ms/step - loss: 0.4101 - accuracy: 0.8432\n",
      "Test accuracy: 0.8432000279426575\n",
      "Test loss: 0.41010674834251404\n"
     ]
    }
   ],
   "source": [
    "test_loss, test_acc = model.evaluate(x_test, y_test)\n",
    "print('Test accuracy:', test_acc)\n",
    "print('Test loss:', test_loss)"
   ]
  },
  {
   "cell_type": "code",
   "execution_count": 81,
   "metadata": {},
   "outputs": [
    {
     "name": "stdout",
     "output_type": "stream",
     "text": [
      "1/1 [==============================] - 0s 79ms/step\n",
      "Predicted Label: 4\n",
      "Actual Label: 6\n"
     ]
    }
   ],
   "source": [
    "# Single value prediction and visualization\n",
    "index = 26  # Index of the image to predict and visualize\n",
    "prediction = np.argmax(model.predict(x_test[index:index+1]), axis=-1)\n",
    "print(\"Predicted Label:\" , prediction[0])\n",
    "print(\"Actual Label:\" , y_test[index])"
   ]
  },
  {
   "cell_type": "code",
   "execution_count": 82,
   "metadata": {},
   "outputs": [
    {
     "data": {
      "image/png": "[encoded data removed]",
      "text/plain": [
       "<Figure size 640x480 with 1 Axes>"
      ]
     },
     "metadata": {},
     "output_type": "display_data"
    }
   ],
   "source": [
    "plt.imshow(x_test[index].reshape(28, 28), cmap='gray')\n",
    "plt.title(f\"Predicted: {prediction[0]}, Actual: {y_test[index]}\")\n",
    "plt.show()\n"
   ]
  },
  {
   "cell_type": "code",
   "execution_count": null,
   "metadata": {},
   "outputs": [],
   "source": []
  }
 ],
 "metadata": {
  "colab": {
   "provenance": []
  },
  "kernelspec": {
   "display_name": "Python 3 (ipykernel)",
   "language": "python",
   "name": "python3"
  },
  "language_info": {
   "codemirror_mode": {
    "name": "ipython",
    "version": 3
   },
   "file_extension": ".py",
   "mimetype": "text/x-python",
   "name": "python",
   "nbconvert_exporter": "python",
   "pygments_lexer": "ipython3",
   "version": "3.10.2"
  }
 },
 "nbformat": 4,
 "nbformat_minor": 1
}
