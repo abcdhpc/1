{
 "cells": [
  {
   "cell_type": "code",
   "execution_count": 1,
   "id": "dec08729",
   "metadata": {
    "executionInfo": {
     "elapsed": 3726,
     "status": "ok",
     "timestamp": 1685034050569,
     "user": {
      "displayName": "TE_B_52_Siddesh Patankar",
      "userId": "08734077620444832225"
     },
     "user_tz": -330
    },
    "id": "dec08729"
   },
   "outputs": [],
   "source": [
    "import tensorflow as tf\n",
    "import pandas as pd\n",
    "from tensorflow.keras.datasets import boston_housing\n",
    "from sklearn import preprocessing"
   ]
  },
  {
   "cell_type": "code",
   "execution_count": 2,
   "id": "d857ed5f",
   "metadata": {
    "colab": {
     "base_uri": "https://localhost:8080/"
    },
    "executionInfo": {
     "elapsed": 1222,
     "status": "ok",
     "timestamp": 1685034279071,
     "user": {
      "displayName": "TE_B_52_Siddesh Patankar",
      "userId": "08734077620444832225"
     },
     "user_tz": -330
    },
    "id": "d857ed5f",
    "outputId": "c14a5e50-a093-4c05-a7bb-131de20f8c70"
   },
   "outputs": [
    {
     "name": "stdout",
     "output_type": "stream",
     "text": [
      "Downloading data from https://storage.googleapis.com/tensorflow/tf-keras-datasets/boston_housing.npz\n",
      "57026/57026 [==============================] - 0s 0us/step\n"
     ]
    }
   ],
   "source": [
    "(train_x,train_y),(test_x,test_y)=boston_housing.load_data()"
   ]
  },
  {
   "cell_type": "code",
   "execution_count": 32,
   "id": "6a7f0219",
   "metadata": {
    "colab": {
     "base_uri": "https://localhost:8080/"
    },
    "executionInfo": {
     "elapsed": 750,
     "status": "ok",
     "timestamp": 1685034282170,
     "user": {
      "displayName": "TE_B_52_Siddesh Patankar",
      "userId": "08734077620444832225"
     },
     "user_tz": -330
    },
    "id": "6a7f0219",
    "outputId": "5db99bb9-6f24-4ae2-e8d9-eea94dd852b0"
   },
   "outputs": [
    {
     "data": {
      "text/plain": [
       "((array([[1.23247e+00, 0.00000e+00, 8.14000e+00, ..., 2.10000e+01,\n",
       "          3.96900e+02, 1.87200e+01],\n",
       "         [2.17700e-02, 8.25000e+01, 2.03000e+00, ..., 1.47000e+01,\n",
       "          3.95380e+02, 3.11000e+00],\n",
       "         [4.89822e+00, 0.00000e+00, 1.81000e+01, ..., 2.02000e+01,\n",
       "          3.75520e+02, 3.26000e+00],\n",
       "         ...,\n",
       "         [3.46600e-02, 3.50000e+01, 6.06000e+00, ..., 1.69000e+01,\n",
       "          3.62250e+02, 7.83000e+00],\n",
       "         [2.14918e+00, 0.00000e+00, 1.95800e+01, ..., 1.47000e+01,\n",
       "          2.61950e+02, 1.57900e+01],\n",
       "         [1.43900e-02, 6.00000e+01, 2.93000e+00, ..., 1.56000e+01,\n",
       "          3.76700e+02, 4.38000e+00]]),\n",
       "  array([15.2, 42.3, 50. , 21.1, 17.7, 18.5, 11.3, 15.6, 15.6, 14.4, 12.1,\n",
       "         17.9, 23.1, 19.9, 15.7,  8.8, 50. , 22.5, 24.1, 27.5, 10.9, 30.8,\n",
       "         32.9, 24. , 18.5, 13.3, 22.9, 34.7, 16.6, 17.5, 22.3, 16.1, 14.9,\n",
       "         23.1, 34.9, 25. , 13.9, 13.1, 20.4, 20. , 15.2, 24.7, 22.2, 16.7,\n",
       "         12.7, 15.6, 18.4, 21. , 30.1, 15.1, 18.7,  9.6, 31.5, 24.8, 19.1,\n",
       "         22. , 14.5, 11. , 32. , 29.4, 20.3, 24.4, 14.6, 19.5, 14.1, 14.3,\n",
       "         15.6, 10.5,  6.3, 19.3, 19.3, 13.4, 36.4, 17.8, 13.5, 16.5,  8.3,\n",
       "         14.3, 16. , 13.4, 28.6, 43.5, 20.2, 22. , 23. , 20.7, 12.5, 48.5,\n",
       "         14.6, 13.4, 23.7, 50. , 21.7, 39.8, 38.7, 22.2, 34.9, 22.5, 31.1,\n",
       "         28.7, 46. , 41.7, 21. , 26.6, 15. , 24.4, 13.3, 21.2, 11.7, 21.7,\n",
       "         19.4, 50. , 22.8, 19.7, 24.7, 36.2, 14.2, 18.9, 18.3, 20.6, 24.6,\n",
       "         18.2,  8.7, 44. , 10.4, 13.2, 21.2, 37. , 30.7, 22.9, 20. , 19.3,\n",
       "         31.7, 32. , 23.1, 18.8, 10.9, 50. , 19.6,  5. , 14.4, 19.8, 13.8,\n",
       "         19.6, 23.9, 24.5, 25. , 19.9, 17.2, 24.6, 13.5, 26.6, 21.4, 11.9,\n",
       "         22.6, 19.6,  8.5, 23.7, 23.1, 22.4, 20.5, 23.6, 18.4, 35.2, 23.1,\n",
       "         27.9, 20.6, 23.7, 28. , 13.6, 27.1, 23.6, 20.6, 18.2, 21.7, 17.1,\n",
       "          8.4, 25.3, 13.8, 22.2, 18.4, 20.7, 31.6, 30.5, 20.3,  8.8, 19.2,\n",
       "         19.4, 23.1, 23. , 14.8, 48.8, 22.6, 33.4, 21.1, 13.6, 32.2, 13.1,\n",
       "         23.4, 18.9, 23.9, 11.8, 23.3, 22.8, 19.6, 16.7, 13.4, 22.2, 20.4,\n",
       "         21.8, 26.4, 14.9, 24.1, 23.8, 12.3, 29.1, 21. , 19.5, 23.3, 23.8,\n",
       "         17.8, 11.5, 21.7, 19.9, 25. , 33.4, 28.5, 21.4, 24.3, 27.5, 33.1,\n",
       "         16.2, 23.3, 48.3, 22.9, 22.8, 13.1, 12.7, 22.6, 15. , 15.3, 10.5,\n",
       "         24. , 18.5, 21.7, 19.5, 33.2, 23.2,  5. , 19.1, 12.7, 22.3, 10.2,\n",
       "         13.9, 16.3, 17. , 20.1, 29.9, 17.2, 37.3, 45.4, 17.8, 23.2, 29. ,\n",
       "         22. , 18. , 17.4, 34.6, 20.1, 25. , 15.6, 24.8, 28.2, 21.2, 21.4,\n",
       "         23.8, 31. , 26.2, 17.4, 37.9, 17.5, 20. ,  8.3, 23.9,  8.4, 13.8,\n",
       "          7.2, 11.7, 17.1, 21.6, 50. , 16.1, 20.4, 20.6, 21.4, 20.6, 36.5,\n",
       "          8.5, 24.8, 10.8, 21.9, 17.3, 18.9, 36.2, 14.9, 18.2, 33.3, 21.8,\n",
       "         19.7, 31.6, 24.8, 19.4, 22.8,  7.5, 44.8, 16.8, 18.7, 50. , 50. ,\n",
       "         19.5, 20.1, 50. , 17.2, 20.8, 19.3, 41.3, 20.4, 20.5, 13.8, 16.5,\n",
       "         23.9, 20.6, 31.5, 23.3, 16.8, 14. , 33.8, 36.1, 12.8, 18.3, 18.7,\n",
       "         19.1, 29. , 30.1, 50. , 50. , 22. , 11.9, 37.6, 50. , 22.7, 20.8,\n",
       "         23.5, 27.9, 50. , 19.3, 23.9, 22.6, 15.2, 21.7, 19.2, 43.8, 20.3,\n",
       "         33.2, 19.9, 22.5, 32.7, 22. , 17.1, 19. , 15. , 16.1, 25.1, 23.7,\n",
       "         28.7, 37.2, 22.6, 16.4, 25. , 29.8, 22.1, 17.4, 18.1, 30.3, 17.5,\n",
       "         24.7, 12.6, 26.5, 28.7, 13.3, 10.4, 24.4, 23. , 20. , 17.8,  7. ,\n",
       "         11.8, 24.4, 13.8, 19.4, 25.2, 19.4, 19.4, 29.1])),\n",
       " (array([[1.80846e+01, 0.00000e+00, 1.81000e+01, ..., 2.02000e+01,\n",
       "          2.72500e+01, 2.90500e+01],\n",
       "         [1.23290e-01, 0.00000e+00, 1.00100e+01, ..., 1.78000e+01,\n",
       "          3.94950e+02, 1.62100e+01],\n",
       "         [5.49700e-02, 0.00000e+00, 5.19000e+00, ..., 2.02000e+01,\n",
       "          3.96900e+02, 9.74000e+00],\n",
       "         ...,\n",
       "         [1.83377e+00, 0.00000e+00, 1.95800e+01, ..., 1.47000e+01,\n",
       "          3.89610e+02, 1.92000e+00],\n",
       "         [3.58090e-01, 0.00000e+00, 6.20000e+00, ..., 1.74000e+01,\n",
       "          3.91700e+02, 9.71000e+00],\n",
       "         [2.92400e+00, 0.00000e+00, 1.95800e+01, ..., 1.47000e+01,\n",
       "          2.40160e+02, 9.81000e+00]]),\n",
       "  array([ 7.2, 18.8, 19. , 27. , 22.2, 24.5, 31.2, 22.9, 20.5, 23.2, 18.6,\n",
       "         14.5, 17.8, 50. , 20.8, 24.3, 24.2, 19.8, 19.1, 22.7, 12. , 10.2,\n",
       "         20. , 18.5, 20.9, 23. , 27.5, 30.1,  9.5, 22. , 21.2, 14.1, 33.1,\n",
       "         23.4, 20.1,  7.4, 15.4, 23.8, 20.1, 24.5, 33. , 28.4, 14.1, 46.7,\n",
       "         32.5, 29.6, 28.4, 19.8, 20.2, 25. , 35.4, 20.3,  9.7, 14.5, 34.9,\n",
       "         26.6,  7.2, 50. , 32.4, 21.6, 29.8, 13.1, 27.5, 21.2, 23.1, 21.9,\n",
       "         13. , 23.2,  8.1,  5.6, 21.7, 29.6, 19.6,  7. , 26.4, 18.9, 20.9,\n",
       "         28.1, 35.4, 10.2, 24.3, 43.1, 17.6, 15.4, 16.2, 27.1, 21.4, 21.5,\n",
       "         22.4, 25. , 16.6, 18.6, 22. , 42.8, 35.1, 21.5, 36. , 21.9, 24.1,\n",
       "         50. , 26.7, 25. ])))"
      ]
     },
     "execution_count": 32,
     "metadata": {},
     "output_type": "execute_result"
    }
   ],
   "source": [
    "df = boston_housing.load_data()\n",
    "df"
   ]
  },
  {
   "cell_type": "code",
   "execution_count": 33,
   "id": "c664161b",
   "metadata": {
    "colab": {
     "base_uri": "https://localhost:8080/"
    },
    "executionInfo": {
     "elapsed": 893,
     "status": "ok",
     "timestamp": 1685034562446,
     "user": {
      "displayName": "TE_B_52_Siddesh Patankar",
      "userId": "08734077620444832225"
     },
     "user_tz": -330
    },
    "id": "c664161b",
    "outputId": "0c44ac14-0469-49e6-cc25-5d87784fc127"
   },
   "outputs": [
    {
     "name": "stdout",
     "output_type": "stream",
     "text": [
      "train shape:  (404, 13)\n",
      "test shape:  (102, 13)\n",
      "actual train output: (404,)\n",
      "actual test output: (102,)\n"
     ]
    }
   ],
   "source": [
    "print(\"train shape: \",train_x.shape)\n",
    "print(\"test shape: \",test_x.shape)\n",
    "print(\"actual train output:\",train_y.shape)\n",
    "print(\"actual test output:\",test_y.shape)"
   ]
  },
  {
   "cell_type": "code",
   "execution_count": 34,
   "id": "3e6cd10e",
   "metadata": {
    "executionInfo": {
     "elapsed": 1321,
     "status": "ok",
     "timestamp": 1685034323579,
     "user": {
      "displayName": "TE_B_52_Siddesh Patankar",
      "userId": "08734077620444832225"
     },
     "user_tz": -330
    },
    "id": "3e6cd10e"
   },
   "outputs": [],
   "source": [
    "#normalization for preprocessing\n",
    "train_x=preprocessing.normalize(train_x)\n",
    "test_x=preprocessing.normalize(test_x)"
   ]
  },
  {
   "cell_type": "code",
   "execution_count": 35,
   "id": "c1c3fcb3",
   "metadata": {
    "executionInfo": {
     "elapsed": 524,
     "status": "ok",
     "timestamp": 1685037582134,
     "user": {
      "displayName": "TE_B_52_Siddesh Patankar",
      "userId": "08734077620444832225"
     },
     "user_tz": -330
    },
    "id": "c1c3fcb3"
   },
   "outputs": [],
   "source": [
    "from tensorflow.python import metrics\n",
    "from tensorflow.keras.models import Sequential\n",
    "from tensorflow.keras.layers import *\n",
    "def HousePricePredictionModel():  \n",
    "    model=Sequential()\n",
    "    model.add(Dense(128,activation='relu',input_shape=(train_x[0].shape)))\n",
    "    model.add(Dense(64,activation='relu'))\n",
    "    model.add(Dense(32,activation='relu'))\n",
    "    model.add(Dense(1))\n",
    "    model.compile(optimizer='adam',loss='mse',metrics=['mae'])\n",
    "    return model"
   ]
  },
  {
   "cell_type": "code",
   "execution_count": 30,
   "id": "d55cfd2b",
   "metadata": {
    "executionInfo": {
     "elapsed": 4,
     "status": "ok",
     "timestamp": 1685037584754,
     "user": {
      "displayName": "TE_B_52_Siddesh Patankar",
      "userId": "08734077620444832225"
     },
     "user_tz": -330
    },
    "id": "d55cfd2b"
   },
   "outputs": [],
   "source": [
    "import numpy as np\n",
    "k=4\n",
    "num_val_samples=len(train_x)\n",
    "num_epochs=100\n",
    "all_scores=[]"
   ]
  },
  {
   "cell_type": "code",
   "execution_count": 36,
   "id": "d96f40b9",
   "metadata": {
    "colab": {
     "base_uri": "https://localhost:8080/"
    },
    "executionInfo": {
     "elapsed": 67695,
     "status": "ok",
     "timestamp": 1685037652446,
     "user": {
      "displayName": "TE_B_52_Siddesh Patankar",
      "userId": "08734077620444832225"
     },
     "user_tz": -330
    },
    "id": "d96f40b9",
    "outputId": "ba18ddb9-1810-41f6-9b3e-0ca7d08ba37a"
   },
   "outputs": [
    {
     "name": "stdout",
     "output_type": "stream",
     "text": [
      "Epoch 1/100\n",
      "404/404 [==============================] - 1s 2ms/step - loss: 138.1577 - mae: 8.5192 - val_loss: 65.2662 - val_mae: 5.8087\n",
      "Epoch 2/100\n",
      "404/404 [==============================] - 1s 2ms/step - loss: 65.4837 - mae: 5.7330 - val_loss: 58.7099 - val_mae: 5.5681\n",
      "Epoch 3/100\n",
      "404/404 [==============================] - 1s 1ms/step - loss: 61.7540 - mae: 5.4981 - val_loss: 59.6306 - val_mae: 5.5476\n",
      "Epoch 4/100\n",
      "404/404 [==============================] - 1s 2ms/step - loss: 60.6631 - mae: 5.3448 - val_loss: 54.0677 - val_mae: 5.4047\n",
      "Epoch 5/100\n",
      "404/404 [==============================] - 1s 1ms/step - loss: 58.0395 - mae: 5.2734 - val_loss: 54.8863 - val_mae: 5.3499\n",
      "Epoch 6/100\n",
      "404/404 [==============================] - 1s 2ms/step - loss: 55.2900 - mae: 5.1426 - val_loss: 55.8955 - val_mae: 5.3241\n",
      "Epoch 7/100\n",
      "404/404 [==============================] - 1s 1ms/step - loss: 51.8960 - mae: 4.8776 - val_loss: 56.4034 - val_mae: 5.2951\n",
      "Epoch 8/100\n",
      "404/404 [==============================] - 1s 1ms/step - loss: 51.1861 - mae: 4.8186 - val_loss: 49.8259 - val_mae: 5.0239\n",
      "Epoch 9/100\n",
      "404/404 [==============================] - 1s 2ms/step - loss: 48.8799 - mae: 4.7713 - val_loss: 46.3028 - val_mae: 4.9309\n",
      "Epoch 10/100\n",
      "404/404 [==============================] - 1s 2ms/step - loss: 48.2054 - mae: 4.6624 - val_loss: 44.6019 - val_mae: 4.7267\n",
      "Epoch 11/100\n",
      "404/404 [==============================] - 1s 2ms/step - loss: 44.7152 - mae: 4.5926 - val_loss: 42.8422 - val_mae: 4.6638\n",
      "Epoch 12/100\n",
      "404/404 [==============================] - 1s 2ms/step - loss: 43.3555 - mae: 4.4805 - val_loss: 44.7590 - val_mae: 4.6444\n",
      "Epoch 13/100\n",
      "404/404 [==============================] - 1s 2ms/step - loss: 40.7653 - mae: 4.2830 - val_loss: 38.9952 - val_mae: 4.4801\n",
      "Epoch 14/100\n",
      "404/404 [==============================] - 1s 2ms/step - loss: 39.2005 - mae: 4.3542 - val_loss: 59.7191 - val_mae: 5.4907\n",
      "Epoch 15/100\n",
      "404/404 [==============================] - 1s 1ms/step - loss: 37.9943 - mae: 4.2723 - val_loss: 35.1916 - val_mae: 4.1426\n",
      "Epoch 16/100\n",
      "404/404 [==============================] - 1s 1ms/step - loss: 36.0318 - mae: 4.2241 - val_loss: 34.5300 - val_mae: 4.0729\n",
      "Epoch 17/100\n",
      "404/404 [==============================] - 1s 2ms/step - loss: 34.1684 - mae: 4.1074 - val_loss: 35.6768 - val_mae: 4.6753\n",
      "Epoch 18/100\n",
      "404/404 [==============================] - 1s 2ms/step - loss: 33.1230 - mae: 4.0394 - val_loss: 32.2094 - val_mae: 4.2171\n",
      "Epoch 19/100\n",
      "404/404 [==============================] - 1s 1ms/step - loss: 32.1427 - mae: 4.0221 - val_loss: 30.0082 - val_mae: 3.9558\n",
      "Epoch 20/100\n",
      "404/404 [==============================] - 1s 1ms/step - loss: 31.8196 - mae: 4.0917 - val_loss: 29.8665 - val_mae: 3.7939\n",
      "Epoch 21/100\n",
      "404/404 [==============================] - 1s 1ms/step - loss: 29.8528 - mae: 3.8927 - val_loss: 29.4818 - val_mae: 3.8051\n",
      "Epoch 22/100\n",
      "404/404 [==============================] - 1s 2ms/step - loss: 28.8395 - mae: 3.8008 - val_loss: 36.0573 - val_mae: 4.1289\n",
      "Epoch 23/100\n",
      "404/404 [==============================] - 1s 2ms/step - loss: 28.3662 - mae: 3.7764 - val_loss: 39.1338 - val_mae: 5.2581\n",
      "Epoch 24/100\n",
      "404/404 [==============================] - 1s 1ms/step - loss: 28.0679 - mae: 3.8578 - val_loss: 28.8921 - val_mae: 3.7284\n",
      "Epoch 25/100\n",
      "404/404 [==============================] - 1s 2ms/step - loss: 24.7438 - mae: 3.5912 - val_loss: 32.0271 - val_mae: 3.9012\n",
      "Epoch 26/100\n",
      "404/404 [==============================] - 1s 1ms/step - loss: 24.2987 - mae: 3.5847 - val_loss: 47.1101 - val_mae: 4.9715\n",
      "Epoch 27/100\n",
      "404/404 [==============================] - 1s 1ms/step - loss: 23.9814 - mae: 3.5112 - val_loss: 27.9753 - val_mae: 3.8573\n",
      "Epoch 28/100\n",
      "404/404 [==============================] - 1s 2ms/step - loss: 23.2055 - mae: 3.4308 - val_loss: 29.5049 - val_mae: 4.0378\n",
      "Epoch 29/100\n",
      "404/404 [==============================] - 1s 2ms/step - loss: 24.0910 - mae: 3.5417 - val_loss: 31.7996 - val_mae: 4.3042\n",
      "Epoch 30/100\n",
      "404/404 [==============================] - 1s 1ms/step - loss: 21.9255 - mae: 3.3864 - val_loss: 30.5424 - val_mae: 3.9017\n",
      "Epoch 31/100\n",
      "404/404 [==============================] - 1s 2ms/step - loss: 21.0657 - mae: 3.3472 - val_loss: 29.1736 - val_mae: 3.8111\n",
      "Epoch 32/100\n",
      "404/404 [==============================] - 1s 2ms/step - loss: 18.8838 - mae: 3.1558 - val_loss: 40.7613 - val_mae: 4.6109\n",
      "Epoch 33/100\n",
      "404/404 [==============================] - 1s 2ms/step - loss: 20.5426 - mae: 3.3042 - val_loss: 27.7646 - val_mae: 3.7997\n",
      "Epoch 34/100\n",
      "404/404 [==============================] - 1s 2ms/step - loss: 20.1943 - mae: 3.1679 - val_loss: 30.7249 - val_mae: 3.8719\n",
      "Epoch 35/100\n",
      "404/404 [==============================] - 1s 2ms/step - loss: 18.7432 - mae: 3.2178 - val_loss: 32.4989 - val_mae: 3.9875\n",
      "Epoch 36/100\n",
      "404/404 [==============================] - 1s 2ms/step - loss: 20.5216 - mae: 3.2153 - val_loss: 31.9358 - val_mae: 3.9485\n",
      "Epoch 37/100\n",
      "404/404 [==============================] - 1s 1ms/step - loss: 18.6029 - mae: 3.1116 - val_loss: 28.1897 - val_mae: 3.6727\n",
      "Epoch 38/100\n",
      "404/404 [==============================] - 1s 2ms/step - loss: 18.4923 - mae: 3.1149 - val_loss: 30.7227 - val_mae: 3.8300\n",
      "Epoch 39/100\n",
      "404/404 [==============================] - 1s 1ms/step - loss: 20.6398 - mae: 3.1639 - val_loss: 35.5894 - val_mae: 4.2111\n",
      "Epoch 40/100\n",
      "404/404 [==============================] - 1s 1ms/step - loss: 17.1769 - mae: 3.0309 - val_loss: 31.4180 - val_mae: 3.8924\n",
      "Epoch 41/100\n",
      "404/404 [==============================] - 1s 2ms/step - loss: 16.7633 - mae: 3.0510 - val_loss: 30.2942 - val_mae: 3.7804\n",
      "Epoch 42/100\n",
      "404/404 [==============================] - 1s 2ms/step - loss: 19.2263 - mae: 3.1981 - val_loss: 33.4751 - val_mae: 4.0692\n",
      "Epoch 43/100\n",
      "404/404 [==============================] - 1s 1ms/step - loss: 18.7784 - mae: 3.0863 - val_loss: 32.0798 - val_mae: 4.0107\n",
      "Epoch 44/100\n",
      "404/404 [==============================] - 1s 2ms/step - loss: 16.2782 - mae: 2.8914 - val_loss: 31.0681 - val_mae: 3.9517\n",
      "Epoch 45/100\n",
      "404/404 [==============================] - 1s 1ms/step - loss: 17.6163 - mae: 2.9699 - val_loss: 30.9261 - val_mae: 3.8225\n",
      "Epoch 46/100\n",
      "404/404 [==============================] - 1s 1ms/step - loss: 17.7772 - mae: 3.0009 - val_loss: 29.5595 - val_mae: 3.7315\n",
      "Epoch 47/100\n",
      "404/404 [==============================] - 1s 2ms/step - loss: 16.6558 - mae: 3.0215 - val_loss: 32.9910 - val_mae: 4.0941\n",
      "Epoch 48/100\n",
      "404/404 [==============================] - 1s 2ms/step - loss: 16.9272 - mae: 2.9371 - val_loss: 32.0580 - val_mae: 3.8873\n",
      "Epoch 49/100\n",
      "404/404 [==============================] - 1s 1ms/step - loss: 17.0925 - mae: 3.0862 - val_loss: 29.6320 - val_mae: 3.8507\n",
      "Epoch 50/100\n",
      "404/404 [==============================] - 1s 2ms/step - loss: 17.3621 - mae: 3.0380 - val_loss: 30.3096 - val_mae: 3.7535\n",
      "Epoch 51/100\n",
      "404/404 [==============================] - 1s 2ms/step - loss: 18.3641 - mae: 2.9942 - val_loss: 30.9365 - val_mae: 3.9341\n",
      "Epoch 52/100\n",
      "404/404 [==============================] - 1s 1ms/step - loss: 16.4859 - mae: 2.9609 - val_loss: 35.0938 - val_mae: 4.1336\n",
      "Epoch 53/100\n",
      "404/404 [==============================] - 1s 2ms/step - loss: 18.5662 - mae: 3.0654 - val_loss: 32.9552 - val_mae: 3.9000\n",
      "Epoch 54/100\n",
      "404/404 [==============================] - 1s 1ms/step - loss: 15.9132 - mae: 2.8316 - val_loss: 35.8273 - val_mae: 4.1696\n",
      "Epoch 55/100\n",
      "404/404 [==============================] - 1s 1ms/step - loss: 17.2046 - mae: 2.9997 - val_loss: 32.2977 - val_mae: 3.9206\n",
      "Epoch 56/100\n",
      "404/404 [==============================] - 1s 2ms/step - loss: 16.4938 - mae: 2.9913 - val_loss: 28.5405 - val_mae: 3.7153\n",
      "Epoch 57/100\n",
      "404/404 [==============================] - 1s 2ms/step - loss: 18.9595 - mae: 3.0798 - val_loss: 31.4119 - val_mae: 3.9406\n",
      "Epoch 58/100\n",
      "404/404 [==============================] - 1s 2ms/step - loss: 17.9703 - mae: 3.0792 - val_loss: 29.4769 - val_mae: 3.6921\n",
      "Epoch 59/100\n",
      "404/404 [==============================] - 1s 2ms/step - loss: 16.3558 - mae: 2.9317 - val_loss: 28.0332 - val_mae: 3.7197\n",
      "Epoch 60/100\n",
      "404/404 [==============================] - 1s 2ms/step - loss: 15.3225 - mae: 2.8688 - val_loss: 33.0544 - val_mae: 3.8122\n",
      "Epoch 61/100\n"
     ]
    },
    {
     "name": "stdout",
     "output_type": "stream",
     "text": [
      "404/404 [==============================] - 1s 2ms/step - loss: 16.0997 - mae: 2.8606 - val_loss: 30.7256 - val_mae: 3.8951\n",
      "Epoch 62/100\n",
      "404/404 [==============================] - 1s 2ms/step - loss: 16.3500 - mae: 2.9733 - val_loss: 28.9406 - val_mae: 3.9376\n",
      "Epoch 63/100\n",
      "404/404 [==============================] - 1s 2ms/step - loss: 17.1617 - mae: 3.0033 - val_loss: 28.7330 - val_mae: 3.7367\n",
      "Epoch 64/100\n",
      "404/404 [==============================] - 1s 2ms/step - loss: 15.4157 - mae: 2.9651 - val_loss: 27.9677 - val_mae: 3.6828\n",
      "Epoch 65/100\n",
      "404/404 [==============================] - 1s 2ms/step - loss: 18.0432 - mae: 3.0846 - val_loss: 30.2848 - val_mae: 3.7946\n",
      "Epoch 66/100\n",
      "404/404 [==============================] - 1s 2ms/step - loss: 16.3552 - mae: 2.8720 - val_loss: 30.0398 - val_mae: 3.7108\n",
      "Epoch 67/100\n",
      "404/404 [==============================] - 1s 2ms/step - loss: 16.7042 - mae: 2.9080 - val_loss: 29.6632 - val_mae: 3.7359\n",
      "Epoch 68/100\n",
      "404/404 [==============================] - 1s 2ms/step - loss: 15.7181 - mae: 2.8595 - val_loss: 26.7913 - val_mae: 3.6336\n",
      "Epoch 69/100\n",
      "404/404 [==============================] - 1s 2ms/step - loss: 17.3163 - mae: 2.9847 - val_loss: 32.4899 - val_mae: 3.8988\n",
      "Epoch 70/100\n",
      "404/404 [==============================] - 1s 2ms/step - loss: 15.6259 - mae: 2.8163 - val_loss: 37.9920 - val_mae: 4.1237\n",
      "Epoch 71/100\n",
      "404/404 [==============================] - 1s 2ms/step - loss: 18.3767 - mae: 3.0088 - val_loss: 33.5559 - val_mae: 4.1299\n",
      "Epoch 72/100\n",
      "404/404 [==============================] - 1s 2ms/step - loss: 15.3032 - mae: 2.8337 - val_loss: 31.5239 - val_mae: 3.7903\n",
      "Epoch 73/100\n",
      "404/404 [==============================] - 1s 2ms/step - loss: 16.3193 - mae: 2.9275 - val_loss: 31.4570 - val_mae: 3.7676\n",
      "Epoch 74/100\n",
      "404/404 [==============================] - 1s 2ms/step - loss: 15.6861 - mae: 2.9201 - val_loss: 40.3949 - val_mae: 4.1777\n",
      "Epoch 75/100\n",
      "404/404 [==============================] - 1s 2ms/step - loss: 16.9896 - mae: 2.9996 - val_loss: 35.5091 - val_mae: 4.1263\n",
      "Epoch 76/100\n",
      "404/404 [==============================] - 1s 2ms/step - loss: 16.1571 - mae: 2.9160 - val_loss: 30.6757 - val_mae: 3.7359\n",
      "Epoch 77/100\n",
      "404/404 [==============================] - 1s 2ms/step - loss: 16.6828 - mae: 2.8837 - val_loss: 27.8993 - val_mae: 3.6506\n",
      "Epoch 78/100\n",
      "404/404 [==============================] - 1s 2ms/step - loss: 15.0938 - mae: 2.8509 - val_loss: 35.1727 - val_mae: 4.0047\n",
      "Epoch 79/100\n",
      "404/404 [==============================] - 1s 2ms/step - loss: 17.0160 - mae: 2.9391 - val_loss: 30.0115 - val_mae: 3.7369\n",
      "Epoch 80/100\n",
      "404/404 [==============================] - 1s 2ms/step - loss: 15.2250 - mae: 2.8015 - val_loss: 30.1491 - val_mae: 3.7332\n",
      "Epoch 81/100\n",
      "404/404 [==============================] - 1s 2ms/step - loss: 17.7951 - mae: 3.0115 - val_loss: 28.1108 - val_mae: 3.5742\n",
      "Epoch 82/100\n",
      "404/404 [==============================] - 1s 2ms/step - loss: 15.2138 - mae: 2.7882 - val_loss: 56.1968 - val_mae: 5.7307\n",
      "Epoch 83/100\n",
      "404/404 [==============================] - 1s 2ms/step - loss: 16.1671 - mae: 2.9164 - val_loss: 28.4492 - val_mae: 3.6500\n",
      "Epoch 84/100\n",
      "404/404 [==============================] - 1s 2ms/step - loss: 16.3598 - mae: 2.9096 - val_loss: 31.9715 - val_mae: 3.7816\n",
      "Epoch 85/100\n",
      "404/404 [==============================] - 1s 2ms/step - loss: 15.9498 - mae: 2.8207 - val_loss: 32.8292 - val_mae: 3.9535\n",
      "Epoch 86/100\n",
      "404/404 [==============================] - 1s 2ms/step - loss: 15.0286 - mae: 2.8080 - val_loss: 28.6182 - val_mae: 3.6042\n",
      "Epoch 87/100\n",
      "404/404 [==============================] - 1s 2ms/step - loss: 16.1609 - mae: 2.8852 - val_loss: 31.1490 - val_mae: 3.8154\n",
      "Epoch 88/100\n",
      "404/404 [==============================] - 1s 2ms/step - loss: 14.9741 - mae: 2.8115 - val_loss: 26.6045 - val_mae: 3.7094\n",
      "Epoch 89/100\n",
      "404/404 [==============================] - 1s 2ms/step - loss: 15.8764 - mae: 2.8397 - val_loss: 38.4713 - val_mae: 4.4860\n",
      "Epoch 90/100\n",
      "404/404 [==============================] - 1s 2ms/step - loss: 15.6040 - mae: 2.7876 - val_loss: 27.2554 - val_mae: 3.5251\n",
      "Epoch 91/100\n",
      "404/404 [==============================] - 1s 2ms/step - loss: 15.8463 - mae: 2.8712 - val_loss: 29.6445 - val_mae: 3.8210\n",
      "Epoch 92/100\n",
      "404/404 [==============================] - 1s 2ms/step - loss: 14.7681 - mae: 2.8555 - val_loss: 26.3439 - val_mae: 3.4949\n",
      "Epoch 93/100\n",
      "404/404 [==============================] - 1s 2ms/step - loss: 16.4382 - mae: 2.9143 - val_loss: 34.0221 - val_mae: 4.0608\n",
      "Epoch 94/100\n",
      "404/404 [==============================] - 1s 2ms/step - loss: 14.5171 - mae: 2.7582 - val_loss: 36.5162 - val_mae: 4.1855\n",
      "Epoch 95/100\n",
      "404/404 [==============================] - 1s 2ms/step - loss: 17.0543 - mae: 2.9572 - val_loss: 29.0406 - val_mae: 3.6093\n",
      "Epoch 96/100\n",
      "404/404 [==============================] - 1s 2ms/step - loss: 14.8089 - mae: 2.7617 - val_loss: 30.2217 - val_mae: 3.6165\n",
      "Epoch 97/100\n",
      "404/404 [==============================] - 1s 2ms/step - loss: 15.1785 - mae: 2.8305 - val_loss: 31.6138 - val_mae: 3.8054\n",
      "Epoch 98/100\n",
      "404/404 [==============================] - 1s 2ms/step - loss: 14.9081 - mae: 2.7627 - val_loss: 31.3631 - val_mae: 3.7932\n",
      "Epoch 99/100\n",
      "404/404 [==============================] - 1s 2ms/step - loss: 16.4788 - mae: 2.9494 - val_loss: 29.7470 - val_mae: 3.7505\n",
      "Epoch 100/100\n",
      "404/404 [==============================] - 1s 2ms/step - loss: 17.4419 - mae: 2.9482 - val_loss: 29.3347 - val_mae: 3.6694\n"
     ]
    }
   ],
   "source": [
    "model= HousePricePredictionModel()\n",
    "history=model.fit(x=train_x,y=train_y,epochs=num_epochs,batch_size=1,verbose=1,validation_data=(test_x,test_y))"
   ]
  },
  {
   "cell_type": "code",
   "execution_count": 15,
   "id": "ddfaa157",
   "metadata": {
    "colab": {
     "base_uri": "https://localhost:8080/"
    },
    "executionInfo": {
     "elapsed": 508,
     "status": "ok",
     "timestamp": 1685034841993,
     "user": {
      "displayName": "TE_B_52_Siddesh Patankar",
      "userId": "08734077620444832225"
     },
     "user_tz": -330
    },
    "id": "ddfaa157",
    "outputId": "12b80eb5-5bc6-41dd-af2b-04d17a578bad"
   },
   "outputs": [
    {
     "name": "stdout",
     "output_type": "stream",
     "text": [
      "4/4 [==============================] - 0s 6ms/step - loss: 31.9049 - mae: 3.7608\n",
      "Mean squared error on test data:  31.9049015045166\n",
      "Mean absolute error on test data:  3.76076602935791\n"
     ]
    }
   ],
   "source": [
    "mse, mae = model.evaluate(test_x, test_y)\n",
    "print('Mean squared error on test data: ', mse)\n",
    "print('Mean absolute error on test data: ', mae)"
   ]
  },
  {
   "cell_type": "code",
   "execution_count": null,
   "id": "2c35b267",
   "metadata": {
    "colab": {
     "background_save": true
    },
    "id": "2c35b267"
   },
   "outputs": [],
   "source": []
  },
  {
   "cell_type": "code",
   "execution_count": null,
   "id": "12ab9568",
   "metadata": {
    "colab": {
     "background_save": true
    },
    "id": "12ab9568"
   },
   "outputs": [],
   "source": []
  }
 ],
 "metadata": {
  "colab": {
   "provenance": []
  },
  "kernelspec": {
   "display_name": "Python 3 (ipykernel)",
   "language": "python",
   "name": "python3"
  },
  "language_info": {
   "codemirror_mode": {
    "name": "ipython",
    "version": 3
   },
   "file_extension": ".py",
   "mimetype": "text/x-python",
   "name": "python",
   "nbconvert_exporter": "python",
   "pygments_lexer": "ipython3",
   "version": "3.10.2"
  }
 },
 "nbformat": 4,
 "nbformat_minor": 5
}
